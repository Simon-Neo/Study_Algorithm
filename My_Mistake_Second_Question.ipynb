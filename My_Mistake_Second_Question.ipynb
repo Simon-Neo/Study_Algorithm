{
  "nbformat": 4,
  "nbformat_minor": 0,
  "metadata": {
    "colab": {
      "name": "My_Mistake_Second_Question.ipynb",
      "provenance": [],
      "authorship_tag": "ABX9TyNftPmNrFLXW0YT2NaTkBJS",
      "include_colab_link": true
    },
    "kernelspec": {
      "name": "python3",
      "display_name": "Python 3"
    }
  },
  "cells": [
    {
      "cell_type": "markdown",
      "metadata": {
        "id": "view-in-github",
        "colab_type": "text"
      },
      "source": [
        "<a href=\"https://colab.research.google.com/github/Simon-Neo/Study_Algorithm/blob/master/My_Mistake_Second_Question.ipynb\" target=\"_parent\"><img src=\"https://colab.research.google.com/assets/colab-badge.svg\" alt=\"Open In Colab\"/></a>"
      ]
    },
    {
      "cell_type": "code",
      "metadata": {
        "id": "BYLGBcX-uLgs",
        "colab_type": "code",
        "colab": {
          "base_uri": "https://localhost:8080/",
          "height": 71
        },
        "outputId": "3306e364-4db8-48a0-92fc-17545e42897f"
      },
      "source": [
        "def Solution(unBook, Book):\n",
        "    answer = []\n",
        "    temp = None\n",
        "    time = 0\n",
        "    for i in range(0, len(unBook), 1):\n",
        "        temp = list(map(int, unBook[i][0].split(':')))\n",
        "        unBook[i][0] = temp[0] * 60 + temp[1]\n",
        "    for i in range(0, len(Book), 1):\n",
        "        temp = list(map(int, Book[i][0].split(':')))\n",
        "        Book[i][0] = temp[0] * 60 + temp[1]\n",
        "\n",
        "    print(Book)\n",
        "    print(unBook)\n",
        "\n",
        "    while(True):\n",
        "        if( len(unBook) <= 0 and len(Book) <= 0):\n",
        "            break\n",
        "        elif(len(unBook) <= 0):\n",
        "            answer.append(Book[0][1])\n",
        "            Book.pop(0)\n",
        "        elif(len(Book) <= 0):\n",
        "            answer.append(unBook[0][1])\n",
        "            unBook.pop(0)\n",
        "        else:\n",
        "            if time > Book[0][0]:\n",
        "                answer.append(Book[0][1])\n",
        "                time = Book[0][0] + 10\n",
        "                Book.pop(0)\n",
        "            elif unBook[0][0] < Book[0][0]:\n",
        "                answer.append(unBook[0][1])\n",
        "                time = unBook[0][0] + 10\n",
        "                unBook.pop(0)\n",
        "            else:\n",
        "                answer.append(Book[0][1])\n",
        "                time = Book[0][0] + 10\n",
        "                Book.pop(0)\n",
        "    return answer\n",
        "\n",
        "unBook = [['09:55', 'UB_A'], ['09:57', 'UB_B']]\n",
        "Book = [['09:58','B_A'], ['10:04','B_B']] # UB_A B_A B_B UB_B\n",
        "\n",
        "\n",
        "print(Solution(unBook, Book))"
      ],
      "execution_count": 1,
      "outputs": [
        {
          "output_type": "stream",
          "text": [
            "[[598, 'B_A'], [604, 'B_B']]\n",
            "[[595, 'UB_A'], [597, 'UB_B']]\n",
            "['UB_A', 'B_A', 'B_B', 'UB_B']\n"
          ],
          "name": "stdout"
        }
      ]
    }
  ]
}